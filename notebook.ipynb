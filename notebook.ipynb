{
 "cells": [
  {
   "cell_type": "code",
   "execution_count": null,
   "metadata": {},
   "outputs": [],
   "source": [
    "from utils import build_lstm, compute_accuracy\n",
    "from utils import labels, random_binary_data"
   ]
  },
  {
   "cell_type": "code",
   "execution_count": null,
   "metadata": {},
   "outputs": [],
   "source": [
    "n = 1000\n",
    "n_test = 1000\n",
    "\n",
    "x_constant = random_binary_data(n,      min_len=50, max_len=50)\n",
    "x_varied   = random_binary_data(n,      min_len=1,  max_len=50)\n",
    "x_test     = random_binary_data(n_test, min_len=50, max_len=50)\n",
    "\n",
    "y_constant = labels(x_constant)\n",
    "y_varied   = labels(x_varied)\n",
    "y_test     = labels(x_test)"
   ]
  },
  {
   "cell_type": "code",
   "execution_count": null,
   "metadata": {
    "collapsed": true
   },
   "outputs": [],
   "source": [
    "model_constant = build_lstm(10)\n",
    "model_varied   = build_lstm(10)\n",
    "\n",
    "epochs = 20"
   ]
  },
  {
   "cell_type": "code",
   "execution_count": null,
   "metadata": {},
   "outputs": [],
   "source": [
    "model_constant.fit(x_constant, y_constant, epochs=epochs)\n",
    "print(\"Accuracy: %f\" % compute_accuracy(model_constant, x_test, y_test))"
   ]
  },
  {
   "cell_type": "code",
   "execution_count": null,
   "metadata": {},
   "outputs": [],
   "source": [
    "model_varied.fit(x_varied, y_varied, epochs=epochs)\n",
    "print(\"Accuracy: %f\" % compute_accuracy(model_varied, x_test, y_test))"
   ]
  }
 ],
 "metadata": {
  "kernelspec": {
   "display_name": "Python 3",
   "language": "python",
   "name": "python3"
  },
  "language_info": {
   "codemirror_mode": {
    "name": "ipython",
    "version": 3
   },
   "file_extension": ".py",
   "mimetype": "text/x-python",
   "name": "python",
   "nbconvert_exporter": "python",
   "pygments_lexer": "ipython3",
   "version": "3.6.2"
  }
 },
 "nbformat": 4,
 "nbformat_minor": 2
}
